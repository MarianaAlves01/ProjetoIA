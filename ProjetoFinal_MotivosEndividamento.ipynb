{
  "nbformat": 4,
  "nbformat_minor": 0,
  "metadata": {
    "colab": {
      "provenance": [],
      "authorship_tag": "ABX9TyMpelTnjfhtfOTDvqS5IJLc",
      "include_colab_link": true
    },
    "kernelspec": {
      "name": "python3",
      "display_name": "Python 3"
    },
    "language_info": {
      "name": "python"
    }
  },
  "cells": [
    {
      "cell_type": "markdown",
      "metadata": {
        "id": "view-in-github",
        "colab_type": "text"
      },
      "source": [
        "<a href=\"https://colab.research.google.com/github/MarianaAlves01/ProjetoIA/blob/main/ProjetoFinal_MotivosEndividamento.ipynb\" target=\"_parent\"><img src=\"https://colab.research.google.com/assets/colab-badge.svg\" alt=\"Open In Colab\"/></a>"
      ]
    },
    {
      "cell_type": "code",
      "execution_count": null,
      "metadata": {
        "id": "zEkslyC-77AP"
      },
      "outputs": [],
      "source": []
    },
    {
      "cell_type": "code",
      "source": [
        "# Importar bibliotecas\n",
        "import pandas as pd\n",
        "from sklearn.model_selection import train_test_split\n",
        "from sklearn.preprocessing import LabelEncoder\n",
        "from sklearn.ensemble import RandomForestClassifier\n",
        "from sklearn.metrics import accuracy_score\n",
        "import numpy as np\n",
        "from openpyxl import Workbook\n",
        "from openpyxl.chart import BarChart, Reference\n",
        "from openpyxl.utils.dataframe import dataframe_to_rows\n",
        "\n",
        "# Carregar dados\n",
        "data = pd.read_csv('train.csv', low_memory=False)\n",
        "\n",
        "# Tratamento de valores ausentes\n",
        "categorical_cols_to_fill = ['Type_of_Loan', 'Credit_Mix', 'Payment_Behaviour']\n",
        "for col in categorical_cols_to_fill:\n",
        "    data[col] = data[col].fillna('Desconhecido')\n",
        "\n",
        "numerical_cols_to_fill = ['Monthly_Inhand_Salary', 'Num_of_Delayed_Payment', 'Num_Credit_Inquiries',\n",
        "                          'Amount_invested_monthly', 'Monthly_Balance']\n",
        "for col in numerical_cols_to_fill:\n",
        "    data[col] = pd.to_numeric(data[col], errors='coerce')\n",
        "    data[col] = data[col].fillna(data[col].median())\n",
        "\n",
        "cols_to_drop = ['Name', 'SSN', 'ID', 'Customer_ID']\n",
        "data = data.drop(columns=cols_to_drop)\n",
        "\n",
        "label_encoders = {}\n",
        "categorical_cols = data.select_dtypes(include='object').columns\n",
        "for col in categorical_cols:\n",
        "    if col != 'Credit_Score':\n",
        "        le = LabelEncoder()\n",
        "        data[col] = le.fit_transform(data[col])\n",
        "        label_encoders[col] = le\n",
        "\n",
        "X = data.drop(columns=['Credit_Score'])\n",
        "y = data['Credit_Score']\n",
        "\n",
        "X_train, X_test, y_train, y_test = train_test_split(X, y, test_size=0.2, random_state=42)\n",
        "\n",
        "model = RandomForestClassifier(random_state=42)\n",
        "model.fit(X_train, y_train)\n",
        "\n",
        "y_pred = model.predict(X_test)\n",
        "accuracy = accuracy_score(y_test, y_pred)\n",
        "\n",
        "feature_importances = pd.DataFrame({\n",
        "    'Característica': X.columns,\n",
        "    'Importância': model.feature_importances_\n",
        "}).sort_values(by='Importância', ascending=False)\n",
        "\n",
        "# Criando o arquivo Excel com gráfico\n",
        "wb = Workbook()\n",
        "ws1 = wb.active\n",
        "ws1.title = 'Acurácia do Modelo'\n",
        "\n",
        "# Adicionando acurácia à primeira aba\n",
        "ws1.append(['Acurácia'])\n",
        "ws1.append([accuracy])\n",
        "\n",
        "# Adicionando importância das características à segunda aba\n",
        "ws2 = wb.create_sheet(title='Importância das Características')\n",
        "for r in dataframe_to_rows(feature_importances, index=False, header=True):\n",
        "    ws2.append(r)\n",
        "\n",
        "# Criando gráfico de barras\n",
        "chart = BarChart()\n",
        "chart.title = \"Importância das Características\"\n",
        "chart.x_axis.title = \"Características\"\n",
        "chart.y_axis.title = \"Importância\"\n",
        "\n",
        "data_range = Reference(ws2, min_col=2, min_row=2, max_col=2, max_row=ws2.max_row)\n",
        "categories_range = Reference(ws2, min_col=1, min_row=2, max_row=ws2.max_row)\n",
        "chart.add_data(data_range, titles_from_data=False)\n",
        "chart.set_categories(categories_range)\n",
        "\n",
        "ws2.add_chart(chart, \"E5\")  # Posicionando o gráfico na planilha\n",
        "\n",
        "# Salvando o arquivo Excel\n",
        "wb.save('resultados_modelo_com_grafico.xlsx')\n",
        "\n",
        "print(\"Resultados exportados para 'resultados_modelo_com_grafico.xlsx'\")\n"
      ],
      "metadata": {
        "colab": {
          "base_uri": "https://localhost:8080/"
        },
        "id": "g2pgiG8M8B9r",
        "outputId": "96929f90-dbc0-4f4d-d65e-dc504f3e30e1"
      },
      "execution_count": 2,
      "outputs": [
        {
          "output_type": "stream",
          "name": "stdout",
          "text": [
            "Resultados exportados para 'resultados_modelo_com_grafico.xlsx'\n"
          ]
        }
      ]
    }
  ]
}