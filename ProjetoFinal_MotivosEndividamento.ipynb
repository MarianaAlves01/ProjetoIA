{
  "nbformat": 4,
  "nbformat_minor": 0,
  "metadata": {
    "colab": {
      "provenance": [],
      "authorship_tag": "ABX9TyOkQf0MxTWRImMhnGPc9bsy",
      "include_colab_link": true
    },
    "kernelspec": {
      "name": "python3",
      "display_name": "Python 3"
    },
    "language_info": {
      "name": "python"
    }
  },
  "cells": [
    {
      "cell_type": "markdown",
      "metadata": {
        "id": "view-in-github",
        "colab_type": "text"
      },
      "source": [
        "<a href=\"https://colab.research.google.com/github/MarianaAlves01/ProjetoIA/blob/main/ProjetoFinal_MotivosEndividamento.ipynb\" target=\"_parent\"><img src=\"https://colab.research.google.com/assets/colab-badge.svg\" alt=\"Open In Colab\"/></a>"
      ]
    },
    {
      "cell_type": "code",
      "execution_count": null,
      "metadata": {
        "id": "zEkslyC-77AP"
      },
      "outputs": [],
      "source": []
    },
    {
      "cell_type": "code",
      "source": [
        "# Importar bibliotecas\n",
        "import pandas as pd\n",
        "from sklearn.model_selection import train_test_split\n",
        "from sklearn.preprocessing import LabelEncoder\n",
        "from sklearn.ensemble import RandomForestClassifier\n",
        "from sklearn.metrics import accuracy_score\n",
        "import numpy as np\n",
        "\n",
        "# Carregar dados\n",
        "data = pd.read_csv('train.csv', low_memory=False)\n",
        "\n",
        "# Tratamento de valores ausentes\n",
        "# Preenchendo valores categóricos ausentes com 'Desconhecido'\n",
        "categorical_cols_to_fill = ['Type_of_Loan', 'Credit_Mix', 'Payment_Behaviour']\n",
        "for col in categorical_cols_to_fill:\n",
        "    data[col] = data[col].fillna('Desconhecido')\n",
        "\n",
        "# Convertendo colunas problemáticas em numéricas antes de preencher valores ausentes\n",
        "numerical_cols_to_fill = ['Monthly_Inhand_Salary', 'Num_of_Delayed_Payment', 'Num_Credit_Inquiries',\n",
        "                          'Amount_invested_monthly', 'Monthly_Balance']\n",
        "for col in numerical_cols_to_fill:\n",
        "    data[col] = pd.to_numeric(data[col], errors='coerce')  # Converter valores para numérico\n",
        "    data[col] = data[col].fillna(data[col].median())  # Preencher valores ausentes com a mediana\n",
        "\n",
        "# Removendo colunas irrelevantes ou com muitos valores ausentes\n",
        "cols_to_drop = ['Name', 'SSN', 'ID', 'Customer_ID']\n",
        "data = data.drop(columns=cols_to_drop)\n",
        "\n",
        "# Convertendo colunas categóricas em numéricas\n",
        "label_encoders = {}\n",
        "categorical_cols = data.select_dtypes(include='object').columns\n",
        "for col in categorical_cols:\n",
        "    if col != 'Credit_Score':  # Excluir a variável alvo\n",
        "        le = LabelEncoder()\n",
        "        data[col] = le.fit_transform(data[col])\n",
        "        label_encoders[col] = le\n",
        "\n",
        "# Dividindo dados em recursos e alvo\n",
        "X = data.drop(columns=['Credit_Score'])\n",
        "y = data['Credit_Score']\n",
        "\n",
        "# Dividindo em conjuntos de treino e teste\n",
        "X_train, X_test, y_train, y_test = train_test_split(X, y, test_size=0.2, random_state=42)\n",
        "\n",
        "# Treinando modelo de Machine Learning\n",
        "model = RandomForestClassifier(random_state=42)\n",
        "model.fit(X_train, y_train)\n",
        "\n",
        "# Fazendo previsões e avaliando o modelo\n",
        "y_pred = model.predict(X_test)\n",
        "accuracy = accuracy_score(y_test, y_pred)\n",
        "\n",
        "# Importância das características\n",
        "feature_importances = pd.DataFrame({\n",
        "    'Característica': X.columns,\n",
        "    'Importância': model.feature_importances_\n",
        "}).sort_values(by='Importância', ascending=False)\n",
        "\n",
        "# Criando planilha com resultados\n",
        "output_data = {\n",
        "    'Acurácia': [accuracy],\n",
        "    'Importância das Características': feature_importances.to_dict(orient='records')\n",
        "}\n",
        "\n",
        "# Salvando resultados em um arquivo Excel\n",
        "with pd.ExcelWriter('resultados_modelo.xlsx') as writer:\n",
        "    pd.DataFrame({'Acurácia': [accuracy]}).to_excel(writer, sheet_name='Acurácia do Modelo', index=False)\n",
        "    feature_importances.to_excel(writer, sheet_name='Importância das Características', index=False)\n",
        "\n",
        "print(\"Resultados exportados para 'resultados_modelo.xlsx'\")\n"
      ],
      "metadata": {
        "colab": {
          "base_uri": "https://localhost:8080/"
        },
        "id": "g2pgiG8M8B9r",
        "outputId": "629c5327-d048-44a7-8145-35c8d07fd521"
      },
      "execution_count": 11,
      "outputs": [
        {
          "output_type": "stream",
          "name": "stdout",
          "text": [
            "Resultados exportados para 'resultados_modelo.xlsx'\n"
          ]
        }
      ]
    }
  ]
}